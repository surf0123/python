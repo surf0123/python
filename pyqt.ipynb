{
  "nbformat": 4,
  "nbformat_minor": 0,
  "metadata": {
    "colab": {
      "provenance": [],
      "authorship_tag": "ABX9TyNjgQmHw/gz3/ZB2bf6terI",
      "include_colab_link": true
    },
    "kernelspec": {
      "name": "python3",
      "display_name": "Python 3"
    },
    "language_info": {
      "name": "python"
    }
  },
  "cells": [
    {
      "cell_type": "markdown",
      "metadata": {
        "id": "view-in-github",
        "colab_type": "text"
      },
      "source": [
        "<a href=\"https://colab.research.google.com/github/surf0123/python/blob/main/pyqt.ipynb\" target=\"_parent\"><img src=\"https://colab.research.google.com/assets/colab-badge.svg\" alt=\"Open In Colab\"/></a>"
      ]
    },
    {
      "cell_type": "code",
      "execution_count": 1,
      "metadata": {
        "colab": {
          "base_uri": "https://localhost:8080/",
          "height": 394
        },
        "id": "hL_CY0_yAVUd",
        "outputId": "426c6d04-e55b-485b-c3c1-d9ac06996f48"
      },
      "outputs": [
        {
          "output_type": "error",
          "ename": "ModuleNotFoundError",
          "evalue": "ignored",
          "traceback": [
            "\u001b[0;31m---------------------------------------------------------------------------\u001b[0m",
            "\u001b[0;31mModuleNotFoundError\u001b[0m                       Traceback (most recent call last)",
            "\u001b[0;32m<ipython-input-1-35a0170aeb13>\u001b[0m in \u001b[0;36m<module>\u001b[0;34m\u001b[0m\n\u001b[1;32m      4\u001b[0m \u001b[0;32mimport\u001b[0m \u001b[0mcv2\u001b[0m\u001b[0;34m\u001b[0m\u001b[0;34m\u001b[0m\u001b[0m\n\u001b[1;32m      5\u001b[0m \u001b[0;32mimport\u001b[0m \u001b[0msys\u001b[0m\u001b[0;34m\u001b[0m\u001b[0;34m\u001b[0m\u001b[0m\n\u001b[0;32m----> 6\u001b[0;31m \u001b[0;32mfrom\u001b[0m \u001b[0mPyQt5\u001b[0m \u001b[0;32mimport\u001b[0m \u001b[0mQtCore\u001b[0m\u001b[0;34m\u001b[0m\u001b[0;34m\u001b[0m\u001b[0m\n\u001b[0m\u001b[1;32m      7\u001b[0m \u001b[0;32mfrom\u001b[0m \u001b[0mPyQt5\u001b[0m \u001b[0;32mimport\u001b[0m \u001b[0mQtWidgets\u001b[0m\u001b[0;34m\u001b[0m\u001b[0;34m\u001b[0m\u001b[0m\n\u001b[1;32m      8\u001b[0m \u001b[0;32mfrom\u001b[0m \u001b[0mPyQt5\u001b[0m \u001b[0;32mimport\u001b[0m \u001b[0mQtGui\u001b[0m\u001b[0;34m\u001b[0m\u001b[0;34m\u001b[0m\u001b[0m\n",
            "\u001b[0;31mModuleNotFoundError\u001b[0m: No module named 'PyQt5'",
            "",
            "\u001b[0;31m---------------------------------------------------------------------------\u001b[0;32m\nNOTE: If your import is failing due to a missing package, you can\nmanually install dependencies using either !pip or !apt.\n\nTo view examples of installing some common dependencies, click the\n\"Open Examples\" button below.\n\u001b[0;31m---------------------------------------------------------------------------\u001b[0m\n"
          ],
          "errorDetails": {
            "actions": [
              {
                "action": "open_url",
                "actionText": "Open Examples",
                "url": "/notebooks/snippets/importing_libraries.ipynb"
              }
            ]
          }
        }
      ],
      "source": [
        "\n",
        "# 출처 - https://github.com/ddd4117/GUI/blob/master/src/camera_test.py\n",
        "# 수정 - webnautes\n",
        "\n",
        "import cv2\n",
        "import sys\n",
        "from PyQt5 import QtCore\n",
        "from PyQt5 import QtWidgets\n",
        "from PyQt5 import QtGui\n",
        "\n",
        "\n",
        "class ShowVideo(QtCore.QObject):\n",
        "\n",
        "    flag = 0\n",
        "\n",
        "    camera = cv2.VideoCapture(1)  ###0, 1\n",
        "\n",
        "    ret, image = camera.read()\n",
        "    height, width = image.shape[:2]\n",
        "\n",
        "    VideoSignal1 = QtCore.pyqtSignal(QtGui.QImage)\n",
        "    VideoSignal2 = QtCore.pyqtSignal(QtGui.QImage)\n",
        "\n",
        "    def __init__(self, parent=None):\n",
        "        super(ShowVideo, self).__init__(parent)\n",
        "\n",
        "    @QtCore.pyqtSlot()\n",
        "    def startVideo(self):\n",
        "        global image\n",
        "\n",
        "        run_video = True\n",
        "        while run_video:\n",
        "            ret, image = self.camera.read()\n",
        "            color_swapped_image = cv2.cvtColor(image, cv2.COLOR_BGR2RGB)\n",
        "\n",
        "            qt_image1 = QtGui.QImage(color_swapped_image.data,\n",
        "                                    self.width,\n",
        "                                    self.height,\n",
        "                                    color_swapped_image.strides[0],\n",
        "                                    QtGui.QImage.Format_RGB888)\n",
        "            self.VideoSignal1.emit(qt_image1)\n",
        "\n",
        "\n",
        "            if self.flag:\n",
        "                img_gray = cv2.cvtColor(image, cv2.COLOR_BGR2GRAY)\n",
        "                img_canny = cv2.Canny(img_gray, 50, 100)\n",
        "              \n",
        "\n",
        "                qt_image2 = QtGui.QImage(img_canny.data,\n",
        "                                         self.width,\n",
        "                                         self.height,\n",
        "                                         img_canny.strides[0],\n",
        "                                         QtGui.QImage.Format_Grayscale8)\n",
        "\n",
        "                self.VideoSignal2.emit(qt_image2)\n",
        "\n",
        "\n",
        "            loop = QtCore.QEventLoop()\n",
        "            QtCore.QTimer.singleShot(25, loop.quit) #25 ms\n",
        "            loop.exec_()\n",
        "\n",
        "    @QtCore.pyqtSlot()\n",
        "    def canny(self):\n",
        "        self.flag = 1 - self.flag\n",
        "\n",
        "\n",
        "class ImageViewer(QtWidgets.QWidget):\n",
        "    def __init__(self, parent=None):\n",
        "        super(ImageViewer, self).__init__(parent)\n",
        "        self.image = QtGui.QImage()\n",
        "        self.setAttribute(QtCore.Qt.WA_OpaquePaintEvent)\n",
        "\n",
        "    def paintEvent(self, event):\n",
        "        painter = QtGui.QPainter(self)\n",
        "        painter.drawImage(0, 0, self.image)\n",
        "        self.image = QtGui.QImage()\n",
        "\n",
        "    def initUI(self):\n",
        "        self.setWindowTitle('Test')\n",
        "\n",
        "    @QtCore.pyqtSlot(QtGui.QImage)\n",
        "    def setImage(self, image):\n",
        "        if image.isNull():\n",
        "            print(\"Viewer Dropped frame!\")\n",
        "\n",
        "        self.image = image\n",
        "        if image.size() != self.size():\n",
        "            self.setFixedSize(image.size())\n",
        "        self.update()\n",
        "\n",
        "\n",
        "if __name__ == '__main__':\n",
        "    app = QtWidgets.QApplication(sys.argv)\n",
        "\n",
        "\n",
        "    thread = QtCore.QThread()\n",
        "    thread.start()\n",
        "    vid = ShowVideo()\n",
        "    vid.moveToThread(thread)\n",
        "\n",
        "    image_viewer1 = ImageViewer()\n",
        "    image_viewer2 = ImageViewer()\n",
        "\n",
        "    vid.VideoSignal1.connect(image_viewer1.setImage)\n",
        "    vid.VideoSignal2.connect(image_viewer2.setImage)\n",
        "\n",
        "    push_button1 = QtWidgets.QPushButton('Start')\n",
        "    push_button2 = QtWidgets.QPushButton('Canny')\n",
        "    push_button1.clicked.connect(vid.startVideo)\n",
        "    push_button2.clicked.connect(vid.canny)\n",
        "\n",
        "    vertical_layout = QtWidgets.QVBoxLayout()\n",
        "    horizontal_layout = QtWidgets.QHBoxLayout()\n",
        "    horizontal_layout.addWidget(image_viewer1)\n",
        "    horizontal_layout.addWidget(image_viewer2)\n",
        "    vertical_layout.addLayout(horizontal_layout)\n",
        "    vertical_layout.addWidget(push_button1)\n",
        "    vertical_layout.addWidget(push_button2)\n",
        "\n",
        "    layout_widget = QtWidgets.QWidget()\n",
        "    layout_widget.setLayout(vertical_layout)\n",
        "\n",
        "    main_window = QtWidgets.QMainWindow()\n",
        "    main_window.setCentralWidget(layout_widget)\n",
        "    main_window.show()\n",
        "    sys.exit(app.exec_())\n"
      ]
    }
  ]
}